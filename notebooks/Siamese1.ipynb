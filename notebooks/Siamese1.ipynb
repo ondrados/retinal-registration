{
  "nbformat": 4,
  "nbformat_minor": 0,
  "metadata": {
    "colab": {
      "name": "Siamese1.ipynb",
      "provenance": [],
      "collapsed_sections": []
    },
    "kernelspec": {
      "name": "python3",
      "display_name": "Python 3"
    },
    "language_info": {
      "name": "python"
    },
    "accelerator": "GPU"
  },
  "cells": [
    {
      "cell_type": "code",
      "metadata": {
        "id": "5s8xJXErQFNI"
      },
      "source": [
        "import os\n",
        "import torch\n",
        "import torch.nn as nn\n",
        "import torch.optim as optim\n",
        "from matplotlib import pyplot as plt\n",
        "from torch.utils.data import DataLoader\n",
        "from torchvision import transforms\n",
        "from tqdm import tqdm"
      ],
      "execution_count": 1,
      "outputs": []
    },
    {
      "cell_type": "code",
      "metadata": {
        "colab": {
          "base_uri": "https://localhost:8080/"
        },
        "id": "rks4KZSdQXdy",
        "outputId": "83648d1c-7d65-49b9-ccf5-9e24cd744d1d"
      },
      "source": [
        "from google.colab import drive\n",
        "drive.mount('/content/drive', force_remount=True)"
      ],
      "execution_count": 2,
      "outputs": [
        {
          "output_type": "stream",
          "name": "stdout",
          "text": [
            "Mounted at /content/drive\n"
          ]
        }
      ]
    },
    {
      "cell_type": "code",
      "metadata": {
        "id": "3XMSgAWnQvFg"
      },
      "source": [
        "import sys\n",
        "sys.path.append('/content/drive/MyDrive/siamese-registration')"
      ],
      "execution_count": 3,
      "outputs": []
    },
    {
      "cell_type": "code",
      "metadata": {
        "id": "cEdMehBMQ9XP"
      },
      "source": [
        "from datasets import RandomTransformationDataset\n",
        "from models import *"
      ],
      "execution_count": 4,
      "outputs": []
    },
    {
      "cell_type": "code",
      "source": [
        "path = \"/content/drive/MyDrive/data\"\n",
        "output_path = \"/content/drive/MyDrive/outputs\"\n"
      ],
      "metadata": {
        "id": "MozA-v0dbEKz"
      },
      "execution_count": 5,
      "outputs": []
    },
    {
      "cell_type": "code",
      "metadata": {
        "id": "ZiI9rHASRB4_"
      },
      "source": [
        "train_dataset = RandomTransformationDataset(\n",
        "    transforms=transforms.Compose([\n",
        "        transforms.ToPILImage(),\n",
        "        transforms.Grayscale(),\n",
        "        transforms.ToTensor(),\n",
        "    ]),\n",
        "    path=os.path.join(path, \"train.pkl\"),\n",
        "    path_prefix=\"/content/drive/MyDrive\"\n",
        ")\n",
        "\n",
        "test_dataset = RandomTransformationDataset(\n",
        "    transforms=transforms.Compose([\n",
        "        transforms.ToPILImage(),\n",
        "        transforms.Grayscale(),\n",
        "        transforms.ToTensor(),\n",
        "    ]),\n",
        "    path=os.path.join(path, \"test.pkl\"),\n",
        "    path_prefix=\"/content/drive/MyDrive\"\n",
        ")\n"
      ],
      "execution_count": 6,
      "outputs": []
    },
    {
      "cell_type": "code",
      "metadata": {
        "colab": {
          "base_uri": "https://localhost:8080/"
        },
        "id": "x3jLix3zRJkU",
        "outputId": "b097da15-db65-4ad0-f2b4-5e388e47c0c2"
      },
      "source": [
        "train_loader = DataLoader(train_dataset, batch_size=12, num_workers=6, pin_memory=True, shuffle=True)\n",
        "test_loader = DataLoader(test_dataset, batch_size=6, num_workers=2, pin_memory=True, shuffle=False)"
      ],
      "execution_count": 7,
      "outputs": [
        {
          "output_type": "stream",
          "name": "stderr",
          "text": [
            "/usr/local/lib/python3.7/dist-packages/torch/utils/data/dataloader.py:481: UserWarning: This DataLoader will create 6 worker processes in total. Our suggested max number of worker in current system is 2, which is smaller than what this DataLoader is going to create. Please be aware that excessive worker creation might get DataLoader running slow or even freeze, lower the worker number to avoid potential slowness/freeze if necessary.\n",
            "  cpuset_checked))\n"
          ]
        }
      ]
    },
    {
      "cell_type": "code",
      "metadata": {
        "colab": {
          "base_uri": "https://localhost:8080/"
        },
        "id": "tM1IxPfoRUXn",
        "outputId": "b1c87b1d-235f-4a88-fc89-826f84f0af1e"
      },
      "source": [
        "model = siamese_resnet18(1, 7)\n",
        "device = torch.device(\"cuda\" if torch.cuda.is_available() else \"cpu\")\n",
        "print(f\"Running on {device}\")\n",
        "model.to(device=device)\n",
        "criterion = nn.MSELoss()\n",
        "optimizer = torch.optim.Adam(model.parameters(), lr=0.0001)"
      ],
      "execution_count": 8,
      "outputs": [
        {
          "output_type": "stream",
          "name": "stdout",
          "text": [
            "Running on cuda\n"
          ]
        }
      ]
    },
    {
      "cell_type": "code",
      "metadata": {
        "colab": {
          "base_uri": "https://localhost:8080/"
        },
        "id": "HKQXL1wcS1mn",
        "outputId": "9a5cd3e8-aceb-4be3-ab1f-9e4cc424887a"
      },
      "source": [
        "running_loss = 0.0\n",
        "val_running_loss = 0.0\n",
        "training_loss = []\n",
        "validation_loss = []\n",
        "\n",
        "for epoch in range(0, 10):\n",
        "    model.train()\n",
        "    with tqdm(train_loader, unit=\"batch\") as progress:\n",
        "        for img0, img1, params in progress:\n",
        "            progress.set_description(f\"Epoch {epoch} - train\")\n",
        "            img0, img1, params = img0.to(device=device), img1.to(device=device), params.to(device=device)\n",
        "            optimizer.zero_grad()\n",
        "            outputs = model(img0, img1)\n",
        "            loss = criterion(outputs, params)\n",
        "            loss_item = loss.item()\n",
        "            running_loss += loss_item\n",
        "            loss.backward()\n",
        "            optimizer.step()\n",
        "            progress.set_postfix(loss=loss_item)\n",
        "\n",
        "    training_loss.append(running_loss / len(train_loader))\n",
        "\n",
        "    model.eval()\n",
        "    with tqdm(test_loader, unit=\"batch\") as validation_progress:\n",
        "        for img0, img1, params in validation_progress:\n",
        "            validation_progress.set_description(f\"Epoch {epoch} - validation\")\n",
        "            img0, img1, params = img0.to(device=device), img1.to(device=device), params.to(device=device)\n",
        "            outputs = model(img0, img1)\n",
        "            loss = criterion(outputs, params)\n",
        "            loss_item = loss.item()\n",
        "            val_running_loss += loss_item\n",
        "            validation_progress.set_postfix(loss=loss_item)\n",
        "\n",
        "    validation_loss.append(val_running_loss / len(test_loader))\n",
        "\n",
        "    torch.save(model.state_dict(), os.path.join(output_path, f\"model-{epoch}.pt\"))\n",
        "\n",
        "    plt.figure()\n",
        "    plt.plot(training_loss, label=\"training loss\")\n",
        "    plt.plot(validation_loss, label=\"validation loss\")\n",
        "    plt.title(\"Training loss\")\n",
        "    plt.xlabel('epoch')\n",
        "    plt.ylabel('loss')\n",
        "    plt.legend()\n",
        "    plt.savefig(os.path.join(output_path, \"loss.png\"))\n",
        "    plt.close()"
      ],
      "execution_count": null,
      "outputs": [
        {
          "output_type": "stream",
          "name": "stderr",
          "text": [
            "Epoch 0 - train:  18%|█▊        | 456/2584 [12:45<45:34,  1.29s/batch, loss=236]"
          ]
        }
      ]
    },
    {
      "cell_type": "code",
      "metadata": {
        "id": "ozkvMyDuS9qD"
      },
      "source": [
        ""
      ],
      "execution_count": null,
      "outputs": []
    }
  ]
}