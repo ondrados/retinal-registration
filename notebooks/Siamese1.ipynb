{
  "nbformat": 4,
  "nbformat_minor": 0,
  "metadata": {
    "colab": {
      "name": "Siamese1.ipynb",
      "provenance": [],
      "collapsed_sections": []
    },
    "kernelspec": {
      "name": "python3",
      "display_name": "Python 3"
    },
    "language_info": {
      "name": "python"
    },
    "accelerator": "GPU"
  },
  "cells": [
    {
      "cell_type": "code",
      "metadata": {
        "id": "5s8xJXErQFNI"
      },
      "source": [
        "import os\n",
        "import numpy as np\n",
        "import torch\n",
        "import torch.nn as nn\n",
        "import torch.optim as optim\n",
        "from matplotlib import pyplot as plt\n",
        "from torch.utils.data import DataLoader\n",
        "from torchvision import transforms\n",
        "from tqdm import tqdm"
      ],
      "execution_count": 1,
      "outputs": []
    },
    {
      "cell_type": "code",
      "metadata": {
        "colab": {
          "base_uri": "https://localhost:8080/"
        },
        "id": "rks4KZSdQXdy",
        "outputId": "468a541f-0d82-4d88-a382-f4d99e98a2ec"
      },
      "source": [
        "from google.colab import drive\n",
        "drive.mount('/content/drive', force_remount=True)"
      ],
      "execution_count": 2,
      "outputs": [
        {
          "output_type": "stream",
          "name": "stdout",
          "text": [
            "Mounted at /content/drive\n"
          ]
        }
      ]
    },
    {
      "cell_type": "code",
      "metadata": {
        "id": "3XMSgAWnQvFg"
      },
      "source": [
        "import sys\n",
        "sys.path.append('/content/drive/MyDrive/siamese-registration')"
      ],
      "execution_count": 3,
      "outputs": []
    },
    {
      "cell_type": "code",
      "metadata": {
        "id": "cEdMehBMQ9XP"
      },
      "source": [
        "from datasets import RandomTransformationDataset\n",
        "from models import *"
      ],
      "execution_count": 4,
      "outputs": []
    },
    {
      "cell_type": "code",
      "source": [
        "path = \"/content/drive/MyDrive/data\"\n",
        "output_path = \"/content/drive/MyDrive/outputs\"\n"
      ],
      "metadata": {
        "id": "MozA-v0dbEKz"
      },
      "execution_count": 5,
      "outputs": []
    },
    {
      "cell_type": "code",
      "metadata": {
        "id": "ZiI9rHASRB4_"
      },
      "source": [
        "train_dataset = RandomTransformationDataset(\n",
        "    transforms=transforms.Compose([\n",
        "        transforms.ToPILImage(),\n",
        "        transforms.Grayscale(),\n",
        "        transforms.ToTensor(),\n",
        "    ]),\n",
        "    path=os.path.join(path, \"train.pkl\"),\n",
        "    path_prefix=\"/content/drive/MyDrive\"\n",
        ")\n",
        "\n",
        "test_dataset = RandomTransformationDataset(\n",
        "    transforms=transforms.Compose([\n",
        "        transforms.ToPILImage(),\n",
        "        transforms.Grayscale(),\n",
        "        transforms.ToTensor(),\n",
        "    ]),\n",
        "    path=os.path.join(path, \"test.pkl\"),\n",
        "    path_prefix=\"/content/drive/MyDrive\"\n",
        ")\n"
      ],
      "execution_count": 6,
      "outputs": []
    },
    {
      "cell_type": "code",
      "metadata": {
        "colab": {
          "base_uri": "https://localhost:8080/"
        },
        "id": "x3jLix3zRJkU",
        "outputId": "58e07dcc-a505-4420-cc87-9b0858de93c6"
      },
      "source": [
        "train_loader = DataLoader(train_dataset, batch_size=16, num_workers=10, shuffle=True)\n",
        "test_loader = DataLoader(test_dataset, batch_size=8, num_workers=5, shuffle=True)"
      ],
      "execution_count": 7,
      "outputs": [
        {
          "output_type": "stream",
          "name": "stderr",
          "text": [
            "/usr/local/lib/python3.7/dist-packages/torch/utils/data/dataloader.py:481: UserWarning: This DataLoader will create 10 worker processes in total. Our suggested max number of worker in current system is 2, which is smaller than what this DataLoader is going to create. Please be aware that excessive worker creation might get DataLoader running slow or even freeze, lower the worker number to avoid potential slowness/freeze if necessary.\n",
            "  cpuset_checked))\n",
            "/usr/local/lib/python3.7/dist-packages/torch/utils/data/dataloader.py:481: UserWarning: This DataLoader will create 5 worker processes in total. Our suggested max number of worker in current system is 2, which is smaller than what this DataLoader is going to create. Please be aware that excessive worker creation might get DataLoader running slow or even freeze, lower the worker number to avoid potential slowness/freeze if necessary.\n",
            "  cpuset_checked))\n"
          ]
        }
      ]
    },
    {
      "cell_type": "code",
      "metadata": {
        "colab": {
          "base_uri": "https://localhost:8080/"
        },
        "id": "tM1IxPfoRUXn",
        "outputId": "413397e3-7063-4dbc-980d-188b6d759471"
      },
      "source": [
        "model = siamese_resnet18(1, 7)\n",
        "device = torch.device(\"cuda\" if torch.cuda.is_available() else \"cpu\")\n",
        "print(f\"Running on {device}\")\n",
        "model.to(device=device)\n",
        "criterion = nn.MSELoss()\n",
        "optimizer = torch.optim.Adam(model.parameters(), lr=0.0001)"
      ],
      "execution_count": 8,
      "outputs": [
        {
          "output_type": "stream",
          "name": "stdout",
          "text": [
            "Running on cuda\n"
          ]
        }
      ]
    },
    {
      "cell_type": "code",
      "metadata": {
        "colab": {
          "base_uri": "https://localhost:8080/"
        },
        "id": "HKQXL1wcS1mn",
        "outputId": "80fc49d8-61b0-4b5d-aa7b-612ae545eee6"
      },
      "source": [
        "training_loss = []\n",
        "validation_loss = []\n",
        "\n",
        "for epoch in range(0, 10):\n",
        "    model.train()\n",
        "    running_loss = 0.0\n",
        "    with tqdm(train_loader, unit=\"batch\") as progress:\n",
        "        for img0, img1, params in progress:\n",
        "            progress.set_description(f\"Epoch {epoch} - train\")\n",
        "            img0, img1, params = img0.to(device=device), img1.to(device=device), params.to(device=device)\n",
        "            optimizer.zero_grad()\n",
        "            outputs = model(img0, img1)\n",
        "            loss = criterion(outputs, params)\n",
        "            loss_item = loss.item()\n",
        "            running_loss += loss_item\n",
        "            loss.backward()\n",
        "            optimizer.step()\n",
        "            progress.set_postfix(loss=loss_item)\n",
        "\n",
        "    training_loss.append(running_loss / len(train_loader))\n",
        "\n",
        "    model.eval()\n",
        "    val_running_loss = 0.0\n",
        "    with tqdm(test_loader, unit=\"batch\") as validation_progress:\n",
        "        for img0, img1, params in validation_progress:\n",
        "            validation_progress.set_description(f\"Epoch {epoch} - validation\")\n",
        "            img0, img1, params = img0.to(device=device), img1.to(device=device), params.to(device=device)\n",
        "            outputs = model(img0, img1)\n",
        "            loss = criterion(outputs, params)\n",
        "            loss_item = loss.item()\n",
        "            val_running_loss += loss_item\n",
        "            validation_progress.set_postfix(loss=loss_item)\n",
        "\n",
        "    validation_loss.append(val_running_loss / len(test_loader))\n",
        "\n",
        "    torch.save(model.state_dict(), os.path.join(output_path, f\"model-{epoch}.pt\"))\n",
        "\n",
        "    plt.figure()\n",
        "    plt.plot(training_loss, label=\"training loss\")\n",
        "    plt.plot(validation_loss, label=\"validation loss\")\n",
        "    plt.title(\"Training loss\")\n",
        "    plt.xlabel('epoch')\n",
        "    plt.ylabel('loss')\n",
        "    plt.legend()\n",
        "    plt.savefig(os.path.join(output_path, \"loss.png\"))\n",
        "    plt.close()"
      ],
      "execution_count": 9,
      "outputs": [
        {
          "output_type": "stream",
          "name": "stderr",
          "text": [
            "Epoch 0 - train: 100%|██████████| 1938/1938 [25:32<00:00,  1.26batch/s, loss=130]\n",
            "  0%|          | 0/1000 [00:00<?, ?batch/s]/usr/local/lib/python3.7/dist-packages/torch/utils/data/dataloader.py:481: UserWarning: This DataLoader will create 5 worker processes in total. Our suggested max number of worker in current system is 2, which is smaller than what this DataLoader is going to create. Please be aware that excessive worker creation might get DataLoader running slow or even freeze, lower the worker number to avoid potential slowness/freeze if necessary.\n",
            "  cpuset_checked))\n",
            "Epoch 0 - validation: 100%|██████████| 1000/1000 [13:39<00:00,  1.22batch/s, loss=154]\n",
            "Epoch 1 - train: 100%|██████████| 1938/1938 [25:29<00:00,  1.27batch/s, loss=104]\n",
            "Epoch 1 - validation: 100%|██████████| 1000/1000 [07:13<00:00,  2.31batch/s, loss=66.6]\n",
            "Epoch 2 - train: 100%|██████████| 1938/1938 [25:34<00:00,  1.26batch/s, loss=23]\n",
            "Epoch 2 - validation: 100%|██████████| 1000/1000 [07:14<00:00,  2.30batch/s, loss=63.7]\n",
            "Epoch 3 - train: 100%|██████████| 1938/1938 [25:34<00:00,  1.26batch/s, loss=39.3]\n",
            "Epoch 3 - validation: 100%|██████████| 1000/1000 [07:17<00:00,  2.29batch/s, loss=18.1]\n",
            "Epoch 4 - train: 100%|██████████| 1938/1938 [25:36<00:00,  1.26batch/s, loss=47.2]\n",
            "Epoch 4 - validation: 100%|██████████| 1000/1000 [07:13<00:00,  2.31batch/s, loss=53.4]\n",
            "Epoch 5 - train: 100%|██████████| 1938/1938 [25:35<00:00,  1.26batch/s, loss=155]\n",
            "Epoch 5 - validation: 100%|██████████| 1000/1000 [07:16<00:00,  2.29batch/s, loss=36.4]\n",
            "Epoch 6 - train: 100%|██████████| 1938/1938 [25:27<00:00,  1.27batch/s, loss=18.3]\n",
            "Epoch 6 - validation: 100%|██████████| 1000/1000 [07:10<00:00,  2.32batch/s, loss=15.5]\n",
            "Epoch 7 - train: 100%|██████████| 1938/1938 [25:33<00:00,  1.26batch/s, loss=51.8]\n",
            "Epoch 7 - validation: 100%|██████████| 1000/1000 [07:11<00:00,  2.32batch/s, loss=82.9]\n",
            "Epoch 8 - train: 100%|██████████| 1938/1938 [26:01<00:00,  1.24batch/s, loss=87]\n",
            "Epoch 8 - validation: 100%|██████████| 1000/1000 [07:21<00:00,  2.27batch/s, loss=31.1]\n",
            "Epoch 9 - train: 100%|██████████| 1938/1938 [25:27<00:00,  1.27batch/s, loss=33.3]\n",
            "Epoch 9 - validation: 100%|██████████| 1000/1000 [07:24<00:00,  2.25batch/s, loss=14.5]\n"
          ]
        }
      ]
    },
    {
      "cell_type": "code",
      "source": [
        "plt.figure()\n",
        "plt.plot(training_loss, label=\"training loss\")\n",
        "plt.plot(validation_loss, label=\"validation loss\")\n",
        "plt.title(\"Training loss\")\n",
        "plt.xlabel('epoch')\n",
        "plt.ylabel('loss')\n",
        "plt.legend()\n",
        "plt.show()"
      ],
      "metadata": {
        "colab": {
          "base_uri": "https://localhost:8080/",
          "height": 295
        },
        "id": "5YjoedYyav8M",
        "outputId": "ed303ebe-6ac8-4ea8-dcfa-8e4fc192cdd3"
      },
      "execution_count": 16,
      "outputs": [
        {
          "output_type": "display_data",
          "data": {
            "image/png": "[encoded data removed]",
            "text/plain": [
              "<Figure size 432x288 with 1 Axes>"
            ]
          },
          "metadata": {
            "needs_background": "light"
          }
        }
      ]
    },
    {
      "cell_type": "code",
      "source": [
        ""
      ],
      "metadata": {
        "id": "Ua3p5ZW2bHgs"
      },
      "execution_count": null,
      "outputs": []
    }
  ]
}