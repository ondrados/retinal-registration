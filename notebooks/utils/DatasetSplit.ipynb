{
 "nbformat": 4,
 "nbformat_minor": 0,
 "metadata": {
  "colab": {
   "name": "dataset-split.ipynb",
   "provenance": [],
   "collapsed_sections": []
  },
  "kernelspec": {
   "name": "python3",
   "display_name": "Python 3"
  },
  "language_info": {
   "name": "python"
  }
 },
 "cells": [
  {
   "cell_type": "code",
   "execution_count": null,
   "metadata": {
    "id": "lDGbOljzyICJ",
    "colab": {
     "base_uri": "https://localhost:8080/"
    },
    "outputId": "aef9b580-db2a-4fa6-ff1c-e29ba28e2405"
   },
   "outputs": [
    {
     "output_type": "stream",
     "name": "stdout",
     "text": [
      "Mounted at /content/drive\n"
     ]
    }
   ],
   "source": [
    "from google.colab import drive\n",
    "drive.mount('/content/drive', force_remount=True)"
   ]
  },
  {
   "cell_type": "code",
   "source": [
    "import os\n",
    "import glob\n",
    "import numpy as np\n",
    "import pandas as pd\n",
    "from sklearn.model_selection import GroupShuffleSplit"
   ],
   "metadata": {
    "id": "ogmsszjEynR5"
   },
   "execution_count": 108,
   "outputs": []
  },
  {
   "cell_type": "code",
   "source": [
    "fundus_images_path = \"/content/drive/MyDrive/data/frame_sequences\"\n",
    "images_path = glob.glob(fundus_images_path + '/**/*jpg')"
   ],
   "metadata": {
    "id": "xA6NGYXlzAr2"
   },
   "execution_count": null,
   "outputs": []
  },
  {
   "cell_type": "code",
   "source": [
    "images_path[1]"
   ],
   "metadata": {
    "colab": {
     "base_uri": "https://localhost:8080/",
     "height": 37
    },
    "id": "aKJy9ZoPzBUh",
    "outputId": "358040d9-d175-4013-c11b-c49f047ae959"
   },
   "execution_count": 46,
   "outputs": [
    {
     "output_type": "execute_result",
     "data": {
      "application/vnd.google.colaboratory.intrinsic+json": {
       "type": "string"
      },
      "text/plain": [
       "'/content/drive/MyDrive/data/frame_sequences/Study_02_00007_01_L/1.jpg'"
      ]
     },
     "metadata": {},
     "execution_count": 46
    }
   ]
  },
  {
   "cell_type": "code",
   "source": [
    "os.path.relpath(images_path[1], \"/content/drive/MyDrive\")"
   ],
   "metadata": {
    "colab": {
     "base_uri": "https://localhost:8080/",
     "height": 37
    },
    "id": "mSrcsV8fFy95",
    "outputId": "61002557-2342-4975-b358-16a9533223d5"
   },
   "execution_count": 126,
   "outputs": [
    {
     "output_type": "execute_result",
     "data": {
      "application/vnd.google.colaboratory.intrinsic+json": {
       "type": "string"
      },
      "text/plain": [
       "'data/frame_sequences/Study_02_00007_01_L/1.jpg'"
      ]
     },
     "metadata": {},
     "execution_count": 126
    }
   ]
  },
  {
   "cell_type": "code",
   "source": [
    "os.path.dirname(images_path[0]).split(\"/\")[-1:][0]"
   ],
   "metadata": {
    "colab": {
     "base_uri": "https://localhost:8080/",
     "height": 37
    },
    "id": "1rWCihGazDP3",
    "outputId": "109c432f-7c6c-4cb6-db55-450f260076ce"
   },
   "execution_count": null,
   "outputs": [
    {
     "output_type": "execute_result",
     "data": {
      "application/vnd.google.colaboratory.intrinsic+json": {
       "type": "string"
      },
      "text/plain": [
       "'Study_02_00007_01_L'"
      ]
     },
     "metadata": {},
     "execution_count": 14
    }
   ]
  },
  {
   "cell_type": "code",
   "source": [
    "df = pd.DataFrame()\n",
    "df.insert(0, \"full_path\", images_path)\n",
    "df.insert(1, \"relative_path\", df.full_path.apply(lambda x: os.path.relpath(x, \"/content/drive/MyDrive\")))\n",
    "df.insert(2, \"file_name\", df.full_path.apply(lambda x: os.path.basename(x)))\n",
    "df.insert(3, \"study\", df.full_path.apply(lambda x: os.path.dirname(x).split(\"/\")[-1:][0]))\n",
    "df.insert(4, \"patient_id\", df.study.apply(lambda x: x.split(\"_\")[2]))\n",
    "df.insert(5, \"patient_record_num\", df.study.apply(lambda x: x.split(\"_\")[3]))\n",
    "df.insert(5, \"eye\", df.study.apply(lambda x: x.split(\"_\")[4]))\n"
   ],
   "metadata": {
    "id": "xUkTgK070sh8"
   },
   "execution_count": 128,
   "outputs": []
  },
  {
   "cell_type": "code",
   "source": [
    "df"
   ],
   "metadata": {
    "colab": {
     "base_uri": "https://localhost:8080/",
     "height": 419
    },
    "id": "L0QWvtj836Fq",
    "outputId": "add95d33-356f-4eed-8971-0a1abeac16d5"
   },
   "execution_count": 129,
   "outputs": [
    {
     "output_type": "execute_result",
     "data": {
      "text/html": [
       "<div>\n",
       "<style scoped>\n",
       "    .dataframe tbody tr th:only-of-type {\n",
       "        vertical-align: middle;\n",
       "    }\n",
       "\n",
       "    .dataframe tbody tr th {\n",
       "        vertical-align: top;\n",
       "    }\n",
       "\n",
       "    .dataframe thead th {\n",
       "        text-align: right;\n",
       "    }\n",
       "</style>\n",
       "<table border=\"1\" class=\"dataframe\">\n",
       "  <thead>\n",
       "    <tr style=\"text-align: right;\">\n",
       "      <th></th>\n",
       "      <th>full_path</th>\n",
       "      <th>relative_path</th>\n",
       "      <th>file_name</th>\n",
       "      <th>study</th>\n",
       "      <th>patient_id</th>\n",
       "      <th>eye</th>\n",
       "      <th>patient_record_num</th>\n",
       "    </tr>\n",
       "  </thead>\n",
       "  <tbody>\n",
       "    <tr>\n",
       "      <th>0</th>\n",
       "      <td>/content/drive/MyDrive/data/frame_sequences/St...</td>\n",
       "      <td>data/frame_sequences/Study_02_00007_01_L/0.jpg</td>\n",
       "      <td>0.jpg</td>\n",
       "      <td>Study_02_00007_01_L</td>\n",
       "      <td>00007</td>\n",
       "      <td>L</td>\n",
       "      <td>01</td>\n",
       "    </tr>\n",
       "    <tr>\n",
       "      <th>1</th>\n",
       "      <td>/content/drive/MyDrive/data/frame_sequences/St...</td>\n",
       "      <td>data/frame_sequences/Study_02_00007_01_L/1.jpg</td>\n",
       "      <td>1.jpg</td>\n",
       "      <td>Study_02_00007_01_L</td>\n",
       "      <td>00007</td>\n",
       "      <td>L</td>\n",
       "      <td>01</td>\n",
       "    </tr>\n",
       "    <tr>\n",
       "      <th>2</th>\n",
       "      <td>/content/drive/MyDrive/data/frame_sequences/St...</td>\n",
       "      <td>data/frame_sequences/Study_02_00007_01_L/2.jpg</td>\n",
       "      <td>2.jpg</td>\n",
       "      <td>Study_02_00007_01_L</td>\n",
       "      <td>00007</td>\n",
       "      <td>L</td>\n",
       "      <td>01</td>\n",
       "    </tr>\n",
       "    <tr>\n",
       "      <th>3</th>\n",
       "      <td>/content/drive/MyDrive/data/frame_sequences/St...</td>\n",
       "      <td>data/frame_sequences/Study_02_00007_01_L/3.jpg</td>\n",
       "      <td>3.jpg</td>\n",
       "      <td>Study_02_00007_01_L</td>\n",
       "      <td>00007</td>\n",
       "      <td>L</td>\n",
       "      <td>01</td>\n",
       "    </tr>\n",
       "    <tr>\n",
       "      <th>4</th>\n",
       "      <td>/content/drive/MyDrive/data/frame_sequences/St...</td>\n",
       "      <td>data/frame_sequences/Study_02_00007_01_L/4.jpg</td>\n",
       "      <td>4.jpg</td>\n",
       "      <td>Study_02_00007_01_L</td>\n",
       "      <td>00007</td>\n",
       "      <td>L</td>\n",
       "      <td>01</td>\n",
       "    </tr>\n",
       "    <tr>\n",
       "      <th>...</th>\n",
       "      <td>...</td>\n",
       "      <td>...</td>\n",
       "      <td>...</td>\n",
       "      <td>...</td>\n",
       "      <td>...</td>\n",
       "      <td>...</td>\n",
       "      <td>...</td>\n",
       "    </tr>\n",
       "    <tr>\n",
       "      <th>127789</th>\n",
       "      <td>/content/drive/MyDrive/data/frame_sequences/St...</td>\n",
       "      <td>data/frame_sequences/Study_02_00128_03_R/247.jpg</td>\n",
       "      <td>247.jpg</td>\n",
       "      <td>Study_02_00128_03_R</td>\n",
       "      <td>00128</td>\n",
       "      <td>R</td>\n",
       "      <td>03</td>\n",
       "    </tr>\n",
       "    <tr>\n",
       "      <th>127790</th>\n",
       "      <td>/content/drive/MyDrive/data/frame_sequences/St...</td>\n",
       "      <td>data/frame_sequences/Study_02_00128_03_R/248.jpg</td>\n",
       "      <td>248.jpg</td>\n",
       "      <td>Study_02_00128_03_R</td>\n",
       "      <td>00128</td>\n",
       "      <td>R</td>\n",
       "      <td>03</td>\n",
       "    </tr>\n",
       "    <tr>\n",
       "      <th>127791</th>\n",
       "      <td>/content/drive/MyDrive/data/frame_sequences/St...</td>\n",
       "      <td>data/frame_sequences/Study_02_00128_03_R/249.jpg</td>\n",
       "      <td>249.jpg</td>\n",
       "      <td>Study_02_00128_03_R</td>\n",
       "      <td>00128</td>\n",
       "      <td>R</td>\n",
       "      <td>03</td>\n",
       "    </tr>\n",
       "    <tr>\n",
       "      <th>127792</th>\n",
       "      <td>/content/drive/MyDrive/data/frame_sequences/St...</td>\n",
       "      <td>data/frame_sequences/Study_02_00128_03_R/250.jpg</td>\n",
       "      <td>250.jpg</td>\n",
       "      <td>Study_02_00128_03_R</td>\n",
       "      <td>00128</td>\n",
       "      <td>R</td>\n",
       "      <td>03</td>\n",
       "    </tr>\n",
       "    <tr>\n",
       "      <th>127793</th>\n",
       "      <td>/content/drive/MyDrive/data/frame_sequences/St...</td>\n",
       "      <td>data/frame_sequences/Study_02_00128_03_R/251.jpg</td>\n",
       "      <td>251.jpg</td>\n",
       "      <td>Study_02_00128_03_R</td>\n",
       "      <td>00128</td>\n",
       "      <td>R</td>\n",
       "      <td>03</td>\n",
       "    </tr>\n",
       "  </tbody>\n",
       "</table>\n",
       "<p>127794 rows × 7 columns</p>\n",
       "</div>"
      ],
      "text/plain": [
       "                                                full_path  ... patient_record_num\n",
       "0       /content/drive/MyDrive/data/frame_sequences/St...  ...                 01\n",
       "1       /content/drive/MyDrive/data/frame_sequences/St...  ...                 01\n",
       "2       /content/drive/MyDrive/data/frame_sequences/St...  ...                 01\n",
       "3       /content/drive/MyDrive/data/frame_sequences/St...  ...                 01\n",
       "4       /content/drive/MyDrive/data/frame_sequences/St...  ...                 01\n",
       "...                                                   ...  ...                ...\n",
       "127789  /content/drive/MyDrive/data/frame_sequences/St...  ...                 03\n",
       "127790  /content/drive/MyDrive/data/frame_sequences/St...  ...                 03\n",
       "127791  /content/drive/MyDrive/data/frame_sequences/St...  ...                 03\n",
       "127792  /content/drive/MyDrive/data/frame_sequences/St...  ...                 03\n",
       "127793  /content/drive/MyDrive/data/frame_sequences/St...  ...                 03\n",
       "\n",
       "[127794 rows x 7 columns]"
      ]
     },
     "metadata": {},
     "execution_count": 129
    }
   ]
  },
  {
   "cell_type": "code",
   "source": [
    "df.patient_id.value_counts().describe()"
   ],
   "metadata": {
    "colab": {
     "base_uri": "https://localhost:8080/"
    },
    "id": "NccsrRVt4E4F",
    "outputId": "6d6a6e9b-e07a-49dd-9522-4df2e47c3f0d"
   },
   "execution_count": 130,
   "outputs": [
    {
     "output_type": "execute_result",
     "data": {
      "text/plain": [
       "count      78.000000\n",
       "mean     1638.384615\n",
       "std       259.318699\n",
       "min      1008.000000\n",
       "25%      1512.000000\n",
       "50%      1514.000000\n",
       "75%      1954.000000\n",
       "max      2521.000000\n",
       "Name: patient_id, dtype: float64"
      ]
     },
     "metadata": {},
     "execution_count": 130
    }
   ]
  },
  {
   "cell_type": "code",
   "source": [
    "df2 = df.groupby(\"patient_id\").sample(500)"
   ],
   "metadata": {
    "id": "6Fr24sK26eZq"
   },
   "execution_count": 139,
   "outputs": []
  },
  {
   "cell_type": "code",
   "source": [
    "df2.patient_id.value_counts().describe()"
   ],
   "metadata": {
    "colab": {
     "base_uri": "https://localhost:8080/"
    },
    "id": "5KHUIL306hFQ",
    "outputId": "49db19f5-0318-4e66-dfef-c37159d29716"
   },
   "execution_count": 140,
   "outputs": [
    {
     "output_type": "execute_result",
     "data": {
      "text/plain": [
       "count     78.0\n",
       "mean     500.0\n",
       "std        0.0\n",
       "min      500.0\n",
       "25%      500.0\n",
       "50%      500.0\n",
       "75%      500.0\n",
       "max      500.0\n",
       "Name: patient_id, dtype: float64"
      ]
     },
     "metadata": {},
     "execution_count": 140
    }
   ]
  },
  {
   "cell_type": "code",
   "source": [
    "df2 = df2.reset_index(drop=True)"
   ],
   "metadata": {
    "id": "rqceOPqC6lWu"
   },
   "execution_count": 141,
   "outputs": []
  },
  {
   "cell_type": "code",
   "source": [
    "df2"
   ],
   "metadata": {
    "colab": {
     "base_uri": "https://localhost:8080/",
     "height": 419
    },
    "id": "DBfxeEeVAfDF",
    "outputId": "a59b8aed-86de-4440-c458-696a6fdaeab6"
   },
   "execution_count": 142,
   "outputs": [
    {
     "output_type": "execute_result",
     "data": {
      "text/html": [
       "<div>\n",
       "<style scoped>\n",
       "    .dataframe tbody tr th:only-of-type {\n",
       "        vertical-align: middle;\n",
       "    }\n",
       "\n",
       "    .dataframe tbody tr th {\n",
       "        vertical-align: top;\n",
       "    }\n",
       "\n",
       "    .dataframe thead th {\n",
       "        text-align: right;\n",
       "    }\n",
       "</style>\n",
       "<table border=\"1\" class=\"dataframe\">\n",
       "  <thead>\n",
       "    <tr style=\"text-align: right;\">\n",
       "      <th></th>\n",
       "      <th>full_path</th>\n",
       "      <th>relative_path</th>\n",
       "      <th>file_name</th>\n",
       "      <th>study</th>\n",
       "      <th>patient_id</th>\n",
       "      <th>eye</th>\n",
       "      <th>patient_record_num</th>\n",
       "    </tr>\n",
       "  </thead>\n",
       "  <tbody>\n",
       "    <tr>\n",
       "      <th>0</th>\n",
       "      <td>/content/drive/MyDrive/data/frame_sequences/St...</td>\n",
       "      <td>data/frame_sequences/Study_02_00007_03_L/20.jpg</td>\n",
       "      <td>20.jpg</td>\n",
       "      <td>Study_02_00007_03_L</td>\n",
       "      <td>00007</td>\n",
       "      <td>L</td>\n",
       "      <td>03</td>\n",
       "    </tr>\n",
       "    <tr>\n",
       "      <th>1</th>\n",
       "      <td>/content/drive/MyDrive/data/frame_sequences/St...</td>\n",
       "      <td>data/frame_sequences/Study_02_00007_01_L/4.jpg</td>\n",
       "      <td>4.jpg</td>\n",
       "      <td>Study_02_00007_01_L</td>\n",
       "      <td>00007</td>\n",
       "      <td>L</td>\n",
       "      <td>01</td>\n",
       "    </tr>\n",
       "    <tr>\n",
       "      <th>2</th>\n",
       "      <td>/content/drive/MyDrive/data/frame_sequences/St...</td>\n",
       "      <td>data/frame_sequences/Study_02_00007_01_R/164.jpg</td>\n",
       "      <td>164.jpg</td>\n",
       "      <td>Study_02_00007_01_R</td>\n",
       "      <td>00007</td>\n",
       "      <td>R</td>\n",
       "      <td>01</td>\n",
       "    </tr>\n",
       "    <tr>\n",
       "      <th>3</th>\n",
       "      <td>/content/drive/MyDrive/data/frame_sequences/St...</td>\n",
       "      <td>data/frame_sequences/Study_02_00007_02_L/232.jpg</td>\n",
       "      <td>232.jpg</td>\n",
       "      <td>Study_02_00007_02_L</td>\n",
       "      <td>00007</td>\n",
       "      <td>L</td>\n",
       "      <td>02</td>\n",
       "    </tr>\n",
       "    <tr>\n",
       "      <th>4</th>\n",
       "      <td>/content/drive/MyDrive/data/frame_sequences/St...</td>\n",
       "      <td>data/frame_sequences/Study_02_00007_01_L/46.jpg</td>\n",
       "      <td>46.jpg</td>\n",
       "      <td>Study_02_00007_01_L</td>\n",
       "      <td>00007</td>\n",
       "      <td>L</td>\n",
       "      <td>01</td>\n",
       "    </tr>\n",
       "    <tr>\n",
       "      <th>...</th>\n",
       "      <td>...</td>\n",
       "      <td>...</td>\n",
       "      <td>...</td>\n",
       "      <td>...</td>\n",
       "      <td>...</td>\n",
       "      <td>...</td>\n",
       "      <td>...</td>\n",
       "    </tr>\n",
       "    <tr>\n",
       "      <th>38995</th>\n",
       "      <td>/content/drive/MyDrive/data/frame_sequences/St...</td>\n",
       "      <td>data/frame_sequences/Study_02_00128_03_L/225.jpg</td>\n",
       "      <td>225.jpg</td>\n",
       "      <td>Study_02_00128_03_L</td>\n",
       "      <td>00128</td>\n",
       "      <td>L</td>\n",
       "      <td>03</td>\n",
       "    </tr>\n",
       "    <tr>\n",
       "      <th>38996</th>\n",
       "      <td>/content/drive/MyDrive/data/frame_sequences/St...</td>\n",
       "      <td>data/frame_sequences/Study_02_00128_03_L/199.jpg</td>\n",
       "      <td>199.jpg</td>\n",
       "      <td>Study_02_00128_03_L</td>\n",
       "      <td>00128</td>\n",
       "      <td>L</td>\n",
       "      <td>03</td>\n",
       "    </tr>\n",
       "    <tr>\n",
       "      <th>38997</th>\n",
       "      <td>/content/drive/MyDrive/data/frame_sequences/St...</td>\n",
       "      <td>data/frame_sequences/Study_02_00128_03_R/248.jpg</td>\n",
       "      <td>248.jpg</td>\n",
       "      <td>Study_02_00128_03_R</td>\n",
       "      <td>00128</td>\n",
       "      <td>R</td>\n",
       "      <td>03</td>\n",
       "    </tr>\n",
       "    <tr>\n",
       "      <th>38998</th>\n",
       "      <td>/content/drive/MyDrive/data/frame_sequences/St...</td>\n",
       "      <td>data/frame_sequences/Study_02_00128_02_L/214.jpg</td>\n",
       "      <td>214.jpg</td>\n",
       "      <td>Study_02_00128_02_L</td>\n",
       "      <td>00128</td>\n",
       "      <td>L</td>\n",
       "      <td>02</td>\n",
       "    </tr>\n",
       "    <tr>\n",
       "      <th>38999</th>\n",
       "      <td>/content/drive/MyDrive/data/frame_sequences/St...</td>\n",
       "      <td>data/frame_sequences/Study_02_00128_03_R/125.jpg</td>\n",
       "      <td>125.jpg</td>\n",
       "      <td>Study_02_00128_03_R</td>\n",
       "      <td>00128</td>\n",
       "      <td>R</td>\n",
       "      <td>03</td>\n",
       "    </tr>\n",
       "  </tbody>\n",
       "</table>\n",
       "<p>39000 rows × 7 columns</p>\n",
       "</div>"
      ],
      "text/plain": [
       "                                               full_path  ... patient_record_num\n",
       "0      /content/drive/MyDrive/data/frame_sequences/St...  ...                 03\n",
       "1      /content/drive/MyDrive/data/frame_sequences/St...  ...                 01\n",
       "2      /content/drive/MyDrive/data/frame_sequences/St...  ...                 01\n",
       "3      /content/drive/MyDrive/data/frame_sequences/St...  ...                 02\n",
       "4      /content/drive/MyDrive/data/frame_sequences/St...  ...                 01\n",
       "...                                                  ...  ...                ...\n",
       "38995  /content/drive/MyDrive/data/frame_sequences/St...  ...                 03\n",
       "38996  /content/drive/MyDrive/data/frame_sequences/St...  ...                 03\n",
       "38997  /content/drive/MyDrive/data/frame_sequences/St...  ...                 03\n",
       "38998  /content/drive/MyDrive/data/frame_sequences/St...  ...                 02\n",
       "38999  /content/drive/MyDrive/data/frame_sequences/St...  ...                 03\n",
       "\n",
       "[39000 rows x 7 columns]"
      ]
     },
     "metadata": {},
     "execution_count": 142
    }
   ]
  },
  {
   "cell_type": "code",
   "source": [
    "train_inds, test_inds = next(GroupShuffleSplit(test_size=.20, n_splits=2, random_state=0).split(df2, groups=df2['patient_id']))\n",
    "\n",
    "train = df2.iloc[train_inds]\n",
    "test = df2.iloc[test_inds]"
   ],
   "metadata": {
    "id": "RXWX8A5oBDY-"
   },
   "execution_count": 143,
   "outputs": []
  },
  {
   "cell_type": "code",
   "source": [
    "train"
   ],
   "metadata": {
    "colab": {
     "base_uri": "https://localhost:8080/",
     "height": 419
    },
    "id": "mId2O0YrHL37",
    "outputId": "14beef3b-a022-4dae-ad24-92a660b1b9d5"
   },
   "execution_count": 146,
   "outputs": [
    {
     "output_type": "execute_result",
     "data": {
      "text/html": [
       "<div>\n",
       "<style scoped>\n",
       "    .dataframe tbody tr th:only-of-type {\n",
       "        vertical-align: middle;\n",
       "    }\n",
       "\n",
       "    .dataframe tbody tr th {\n",
       "        vertical-align: top;\n",
       "    }\n",
       "\n",
       "    .dataframe thead th {\n",
       "        text-align: right;\n",
       "    }\n",
       "</style>\n",
       "<table border=\"1\" class=\"dataframe\">\n",
       "  <thead>\n",
       "    <tr style=\"text-align: right;\">\n",
       "      <th></th>\n",
       "      <th>full_path</th>\n",
       "      <th>relative_path</th>\n",
       "      <th>file_name</th>\n",
       "      <th>study</th>\n",
       "      <th>patient_id</th>\n",
       "      <th>eye</th>\n",
       "      <th>patient_record_num</th>\n",
       "    </tr>\n",
       "  </thead>\n",
       "  <tbody>\n",
       "    <tr>\n",
       "      <th>0</th>\n",
       "      <td>/content/drive/MyDrive/data/frame_sequences/St...</td>\n",
       "      <td>data/frame_sequences/Study_02_00007_03_L/20.jpg</td>\n",
       "      <td>20.jpg</td>\n",
       "      <td>Study_02_00007_03_L</td>\n",
       "      <td>00007</td>\n",
       "      <td>L</td>\n",
       "      <td>03</td>\n",
       "    </tr>\n",
       "    <tr>\n",
       "      <th>1</th>\n",
       "      <td>/content/drive/MyDrive/data/frame_sequences/St...</td>\n",
       "      <td>data/frame_sequences/Study_02_00007_01_L/4.jpg</td>\n",
       "      <td>4.jpg</td>\n",
       "      <td>Study_02_00007_01_L</td>\n",
       "      <td>00007</td>\n",
       "      <td>L</td>\n",
       "      <td>01</td>\n",
       "    </tr>\n",
       "    <tr>\n",
       "      <th>2</th>\n",
       "      <td>/content/drive/MyDrive/data/frame_sequences/St...</td>\n",
       "      <td>data/frame_sequences/Study_02_00007_01_R/164.jpg</td>\n",
       "      <td>164.jpg</td>\n",
       "      <td>Study_02_00007_01_R</td>\n",
       "      <td>00007</td>\n",
       "      <td>R</td>\n",
       "      <td>01</td>\n",
       "    </tr>\n",
       "    <tr>\n",
       "      <th>3</th>\n",
       "      <td>/content/drive/MyDrive/data/frame_sequences/St...</td>\n",
       "      <td>data/frame_sequences/Study_02_00007_02_L/232.jpg</td>\n",
       "      <td>232.jpg</td>\n",
       "      <td>Study_02_00007_02_L</td>\n",
       "      <td>00007</td>\n",
       "      <td>L</td>\n",
       "      <td>02</td>\n",
       "    </tr>\n",
       "    <tr>\n",
       "      <th>4</th>\n",
       "      <td>/content/drive/MyDrive/data/frame_sequences/St...</td>\n",
       "      <td>data/frame_sequences/Study_02_00007_01_L/46.jpg</td>\n",
       "      <td>46.jpg</td>\n",
       "      <td>Study_02_00007_01_L</td>\n",
       "      <td>00007</td>\n",
       "      <td>L</td>\n",
       "      <td>01</td>\n",
       "    </tr>\n",
       "    <tr>\n",
       "      <th>...</th>\n",
       "      <td>...</td>\n",
       "      <td>...</td>\n",
       "      <td>...</td>\n",
       "      <td>...</td>\n",
       "      <td>...</td>\n",
       "      <td>...</td>\n",
       "      <td>...</td>\n",
       "    </tr>\n",
       "    <tr>\n",
       "      <th>38995</th>\n",
       "      <td>/content/drive/MyDrive/data/frame_sequences/St...</td>\n",
       "      <td>data/frame_sequences/Study_02_00128_03_L/225.jpg</td>\n",
       "      <td>225.jpg</td>\n",
       "      <td>Study_02_00128_03_L</td>\n",
       "      <td>00128</td>\n",
       "      <td>L</td>\n",
       "      <td>03</td>\n",
       "    </tr>\n",
       "    <tr>\n",
       "      <th>38996</th>\n",
       "      <td>/content/drive/MyDrive/data/frame_sequences/St...</td>\n",
       "      <td>data/frame_sequences/Study_02_00128_03_L/199.jpg</td>\n",
       "      <td>199.jpg</td>\n",
       "      <td>Study_02_00128_03_L</td>\n",
       "      <td>00128</td>\n",
       "      <td>L</td>\n",
       "      <td>03</td>\n",
       "    </tr>\n",
       "    <tr>\n",
       "      <th>38997</th>\n",
       "      <td>/content/drive/MyDrive/data/frame_sequences/St...</td>\n",
       "      <td>data/frame_sequences/Study_02_00128_03_R/248.jpg</td>\n",
       "      <td>248.jpg</td>\n",
       "      <td>Study_02_00128_03_R</td>\n",
       "      <td>00128</td>\n",
       "      <td>R</td>\n",
       "      <td>03</td>\n",
       "    </tr>\n",
       "    <tr>\n",
       "      <th>38998</th>\n",
       "      <td>/content/drive/MyDrive/data/frame_sequences/St...</td>\n",
       "      <td>data/frame_sequences/Study_02_00128_02_L/214.jpg</td>\n",
       "      <td>214.jpg</td>\n",
       "      <td>Study_02_00128_02_L</td>\n",
       "      <td>00128</td>\n",
       "      <td>L</td>\n",
       "      <td>02</td>\n",
       "    </tr>\n",
       "    <tr>\n",
       "      <th>38999</th>\n",
       "      <td>/content/drive/MyDrive/data/frame_sequences/St...</td>\n",
       "      <td>data/frame_sequences/Study_02_00128_03_R/125.jpg</td>\n",
       "      <td>125.jpg</td>\n",
       "      <td>Study_02_00128_03_R</td>\n",
       "      <td>00128</td>\n",
       "      <td>R</td>\n",
       "      <td>03</td>\n",
       "    </tr>\n",
       "  </tbody>\n",
       "</table>\n",
       "<p>31000 rows × 7 columns</p>\n",
       "</div>"
      ],
      "text/plain": [
       "                                               full_path  ... patient_record_num\n",
       "0      /content/drive/MyDrive/data/frame_sequences/St...  ...                 03\n",
       "1      /content/drive/MyDrive/data/frame_sequences/St...  ...                 01\n",
       "2      /content/drive/MyDrive/data/frame_sequences/St...  ...                 01\n",
       "3      /content/drive/MyDrive/data/frame_sequences/St...  ...                 02\n",
       "4      /content/drive/MyDrive/data/frame_sequences/St...  ...                 01\n",
       "...                                                  ...  ...                ...\n",
       "38995  /content/drive/MyDrive/data/frame_sequences/St...  ...                 03\n",
       "38996  /content/drive/MyDrive/data/frame_sequences/St...  ...                 03\n",
       "38997  /content/drive/MyDrive/data/frame_sequences/St...  ...                 03\n",
       "38998  /content/drive/MyDrive/data/frame_sequences/St...  ...                 02\n",
       "38999  /content/drive/MyDrive/data/frame_sequences/St...  ...                 03\n",
       "\n",
       "[31000 rows x 7 columns]"
      ]
     },
     "metadata": {},
     "execution_count": 146
    }
   ]
  },
  {
   "cell_type": "code",
   "source": [
    "test"
   ],
   "metadata": {
    "colab": {
     "base_uri": "https://localhost:8080/",
     "height": 419
    },
    "id": "TX7Pv6npHOBs",
    "outputId": "b03b7f06-deea-4e98-cecc-e4dd47353cda"
   },
   "execution_count": 157,
   "outputs": [
    {
     "output_type": "execute_result",
     "data": {
      "text/html": [
       "<div>\n",
       "<style scoped>\n",
       "    .dataframe tbody tr th:only-of-type {\n",
       "        vertical-align: middle;\n",
       "    }\n",
       "\n",
       "    .dataframe tbody tr th {\n",
       "        vertical-align: top;\n",
       "    }\n",
       "\n",
       "    .dataframe thead th {\n",
       "        text-align: right;\n",
       "    }\n",
       "</style>\n",
       "<table border=\"1\" class=\"dataframe\">\n",
       "  <thead>\n",
       "    <tr style=\"text-align: right;\">\n",
       "      <th></th>\n",
       "      <th>full_path</th>\n",
       "      <th>relative_path</th>\n",
       "      <th>file_name</th>\n",
       "      <th>study</th>\n",
       "      <th>patient_id</th>\n",
       "      <th>eye</th>\n",
       "      <th>patient_record_num</th>\n",
       "    </tr>\n",
       "  </thead>\n",
       "  <tbody>\n",
       "    <tr>\n",
       "      <th>1000</th>\n",
       "      <td>/content/drive/MyDrive/data/frame_sequences/St...</td>\n",
       "      <td>data/frame_sequences/Study_02_00009_02_R/105.jpg</td>\n",
       "      <td>105.jpg</td>\n",
       "      <td>Study_02_00009_02_R</td>\n",
       "      <td>00009</td>\n",
       "      <td>R</td>\n",
       "      <td>02</td>\n",
       "    </tr>\n",
       "    <tr>\n",
       "      <th>1001</th>\n",
       "      <td>/content/drive/MyDrive/data/frame_sequences/St...</td>\n",
       "      <td>data/frame_sequences/Study_02_00009_02_L/201.jpg</td>\n",
       "      <td>201.jpg</td>\n",
       "      <td>Study_02_00009_02_L</td>\n",
       "      <td>00009</td>\n",
       "      <td>L</td>\n",
       "      <td>02</td>\n",
       "    </tr>\n",
       "    <tr>\n",
       "      <th>1002</th>\n",
       "      <td>/content/drive/MyDrive/data/frame_sequences/St...</td>\n",
       "      <td>data/frame_sequences/Study_02_00009_03_L/128.jpg</td>\n",
       "      <td>128.jpg</td>\n",
       "      <td>Study_02_00009_03_L</td>\n",
       "      <td>00009</td>\n",
       "      <td>L</td>\n",
       "      <td>03</td>\n",
       "    </tr>\n",
       "    <tr>\n",
       "      <th>1003</th>\n",
       "      <td>/content/drive/MyDrive/data/frame_sequences/St...</td>\n",
       "      <td>data/frame_sequences/Study_02_00009_01_R/124.jpg</td>\n",
       "      <td>124.jpg</td>\n",
       "      <td>Study_02_00009_01_R</td>\n",
       "      <td>00009</td>\n",
       "      <td>R</td>\n",
       "      <td>01</td>\n",
       "    </tr>\n",
       "    <tr>\n",
       "      <th>1004</th>\n",
       "      <td>/content/drive/MyDrive/data/frame_sequences/St...</td>\n",
       "      <td>data/frame_sequences/Study_02_00009_02_L/247.jpg</td>\n",
       "      <td>247.jpg</td>\n",
       "      <td>Study_02_00009_02_L</td>\n",
       "      <td>00009</td>\n",
       "      <td>L</td>\n",
       "      <td>02</td>\n",
       "    </tr>\n",
       "    <tr>\n",
       "      <th>...</th>\n",
       "      <td>...</td>\n",
       "      <td>...</td>\n",
       "      <td>...</td>\n",
       "      <td>...</td>\n",
       "      <td>...</td>\n",
       "      <td>...</td>\n",
       "      <td>...</td>\n",
       "    </tr>\n",
       "    <tr>\n",
       "      <th>37995</th>\n",
       "      <td>/content/drive/MyDrive/data/frame_sequences/St...</td>\n",
       "      <td>data/frame_sequences/Study_02_00126_02_R/171.jpg</td>\n",
       "      <td>171.jpg</td>\n",
       "      <td>Study_02_00126_02_R</td>\n",
       "      <td>00126</td>\n",
       "      <td>R</td>\n",
       "      <td>02</td>\n",
       "    </tr>\n",
       "    <tr>\n",
       "      <th>37996</th>\n",
       "      <td>/content/drive/MyDrive/data/frame_sequences/St...</td>\n",
       "      <td>data/frame_sequences/Study_02_00126_01_R/228.jpg</td>\n",
       "      <td>228.jpg</td>\n",
       "      <td>Study_02_00126_01_R</td>\n",
       "      <td>00126</td>\n",
       "      <td>R</td>\n",
       "      <td>01</td>\n",
       "    </tr>\n",
       "    <tr>\n",
       "      <th>37997</th>\n",
       "      <td>/content/drive/MyDrive/data/frame_sequences/St...</td>\n",
       "      <td>data/frame_sequences/Study_02_00126_02_L/112.jpg</td>\n",
       "      <td>112.jpg</td>\n",
       "      <td>Study_02_00126_02_L</td>\n",
       "      <td>00126</td>\n",
       "      <td>L</td>\n",
       "      <td>02</td>\n",
       "    </tr>\n",
       "    <tr>\n",
       "      <th>37998</th>\n",
       "      <td>/content/drive/MyDrive/data/frame_sequences/St...</td>\n",
       "      <td>data/frame_sequences/Study_02_00126_03_L/205.jpg</td>\n",
       "      <td>205.jpg</td>\n",
       "      <td>Study_02_00126_03_L</td>\n",
       "      <td>00126</td>\n",
       "      <td>L</td>\n",
       "      <td>03</td>\n",
       "    </tr>\n",
       "    <tr>\n",
       "      <th>37999</th>\n",
       "      <td>/content/drive/MyDrive/data/frame_sequences/St...</td>\n",
       "      <td>data/frame_sequences/Study_02_00126_01_R/218.jpg</td>\n",
       "      <td>218.jpg</td>\n",
       "      <td>Study_02_00126_01_R</td>\n",
       "      <td>00126</td>\n",
       "      <td>R</td>\n",
       "      <td>01</td>\n",
       "    </tr>\n",
       "  </tbody>\n",
       "</table>\n",
       "<p>8000 rows × 7 columns</p>\n",
       "</div>"
      ],
      "text/plain": [
       "                                               full_path  ... patient_record_num\n",
       "1000   /content/drive/MyDrive/data/frame_sequences/St...  ...                 02\n",
       "1001   /content/drive/MyDrive/data/frame_sequences/St...  ...                 02\n",
       "1002   /content/drive/MyDrive/data/frame_sequences/St...  ...                 03\n",
       "1003   /content/drive/MyDrive/data/frame_sequences/St...  ...                 01\n",
       "1004   /content/drive/MyDrive/data/frame_sequences/St...  ...                 02\n",
       "...                                                  ...  ...                ...\n",
       "37995  /content/drive/MyDrive/data/frame_sequences/St...  ...                 02\n",
       "37996  /content/drive/MyDrive/data/frame_sequences/St...  ...                 01\n",
       "37997  /content/drive/MyDrive/data/frame_sequences/St...  ...                 02\n",
       "37998  /content/drive/MyDrive/data/frame_sequences/St...  ...                 03\n",
       "37999  /content/drive/MyDrive/data/frame_sequences/St...  ...                 01\n",
       "\n",
       "[8000 rows x 7 columns]"
      ]
     },
     "metadata": {},
     "execution_count": 157
    }
   ]
  },
  {
   "cell_type": "code",
   "source": [
    "train.patient_id.unique()"
   ],
   "metadata": {
    "colab": {
     "base_uri": "https://localhost:8080/"
    },
    "id": "Fn3_WLZ3CC6b",
    "outputId": "4acbad2a-a97d-4a55-cca3-4fdfbcca270f"
   },
   "execution_count": 148,
   "outputs": [
    {
     "output_type": "execute_result",
     "data": {
      "text/plain": [
       "array(['00007', '00008', '00010', '00014', '00015', '00016', '00018',\n",
       "       '00026', '00038', '00040', '00041', '00042', '00049', '00052',\n",
       "       '00054', '00056', '00059', '00061', '00063', '00066', '00072',\n",
       "       '00073', '00074', '00075', '00076', '00077', '00079', '00080',\n",
       "       '00082', '00083', '00084', '00086', '00087', '00088', '00089',\n",
       "       '00090', '00092', '00093', '00094', '00095', '00097', '00098',\n",
       "       '00101', '00102', '00103', '00104', '00105', '00106', '00109',\n",
       "       '00110', '00111', '00112', '00115', '00116', '00117', '00118',\n",
       "       '00119', '00122', '00123', '00125', '00127', '00128'], dtype=object)"
      ]
     },
     "metadata": {},
     "execution_count": 148
    }
   ]
  },
  {
   "cell_type": "code",
   "source": [
    "test.patient_id.unique()"
   ],
   "metadata": {
    "colab": {
     "base_uri": "https://localhost:8080/"
    },
    "id": "NMopbwRNC8yR",
    "outputId": "d8e1da1c-b4cf-4e40-8b89-85737c12c245"
   },
   "execution_count": 149,
   "outputs": [
    {
     "output_type": "execute_result",
     "data": {
      "text/plain": [
       "array(['00009', '00078', '00081', '00085', '00091', '00096', '00099',\n",
       "       '00100', '00107', '00108', '00113', '00114', '00120', '00121',\n",
       "       '00124', '00126'], dtype=object)"
      ]
     },
     "metadata": {},
     "execution_count": 149
    }
   ]
  },
  {
   "cell_type": "code",
   "source": [
    "train.to_pickle(f\"/content/drive/MyDrive/data/train.pkl\")\n",
    "test.to_pickle(f\"/content/drive/MyDrive/data/test.pkl\")"
   ],
   "metadata": {
    "id": "pAEudetoC-UA"
   },
   "execution_count": 152,
   "outputs": []
  },
  {
   "cell_type": "code",
   "source": [],
   "metadata": {
    "id": "6Yh8S_QwH1cH"
   },
   "execution_count": null,
   "outputs": []
  }
 ]
}
