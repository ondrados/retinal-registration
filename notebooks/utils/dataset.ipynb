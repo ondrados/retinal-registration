{
 "cells": [
  {
   "cell_type": "code",
   "execution_count": 1,
   "id": "c76f1da8",
   "metadata": {},
   "outputs": [],
   "source": [
    "import cv2\n",
    "import os\n",
    "import glob\n",
    "import numpy as np\n",
    "import random\n",
    "import torch\n",
    "import torchvision\n",
    "from matplotlib import pyplot as plt\n",
    "from torch.utils.data import Dataset, DataLoader\n",
    "from torchvision import transforms\n",
    "from tqdm import tqdm"
   ]
  },
  {
   "cell_type": "code",
   "execution_count": 2,
   "id": "a26e41a5",
   "metadata": {},
   "outputs": [],
   "source": [
    "import sys\n",
    "sys.path.append('/Users/ondra/dev/personal/retinal-registration')"
   ]
  },
  {
   "cell_type": "code",
   "execution_count": 3,
   "id": "2b5d87e9",
   "metadata": {},
   "outputs": [],
   "source": [
    "from datasets import RandomTransformationDataset\n",
    "from models import *"
   ]
  },
  {
   "cell_type": "code",
   "execution_count": 4,
   "id": "1d52965c",
   "metadata": {},
   "outputs": [],
   "source": [
    "data_path = \"/Users/ondra/dev/personal/retinal-registration/data\"\n",
    "output_path = \"/Users/ondra/dev/personal/retinal-registration/outputs\""
   ]
  },
  {
   "cell_type": "code",
   "execution_count": 6,
   "id": "c2ce9544",
   "metadata": {},
   "outputs": [],
   "source": [
    "dataset = RandomTransformationDataset(\n",
    "    transforms=transforms.Compose([\n",
    "        transforms.ToTensor(),\n",
    "    ]),\n",
    "    path=os.path.join(data_path, \"train.pkl\"),\n",
    "    path_prefix=\"/Users/ondra/dev/personal/retinal-registration\"\n",
    ")"
   ]
  },
  {
   "cell_type": "code",
   "execution_count": 7,
   "id": "41e46a50",
   "metadata": {},
   "outputs": [],
   "source": [
    "loader = DataLoader(dataset, batch_size=1, num_workers=0, shuffle=False)"
   ]
  },
  {
   "cell_type": "code",
   "execution_count": 8,
   "id": "2f829d2a",
   "metadata": {},
   "outputs": [],
   "source": [
    "img0, img1, params = next(iter(loader))"
   ]
  },
  {
   "cell_type": "code",
   "execution_count": 9,
   "id": "860f8f96",
   "metadata": {},
   "outputs": [
    {
     "data": {
      "text/plain": [
       "31000"
      ]
     },
     "execution_count": 9,
     "metadata": {},
     "output_type": "execute_result"
    }
   ],
   "source": [
    "len(dataset)"
   ]
  },
  {
   "cell_type": "code",
   "execution_count": null,
   "id": "7518fe35",
   "metadata": {},
   "outputs": [],
   "source": []
  }
 ],
 "metadata": {
  "kernelspec": {
   "display_name": "Python 3 (ipykernel)",
   "language": "python",
   "name": "python3"
  },
  "language_info": {
   "codemirror_mode": {
    "name": "ipython",
    "version": 3
   },
   "file_extension": ".py",
   "mimetype": "text/x-python",
   "name": "python",
   "nbconvert_exporter": "python",
   "pygments_lexer": "ipython3",
   "version": "3.9.10"
  }
 },
 "nbformat": 4,
 "nbformat_minor": 5
}
